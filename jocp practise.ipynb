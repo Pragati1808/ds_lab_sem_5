{
 "cells": [
  {
   "cell_type": "code",
   "execution_count": 1,
   "id": "4759840e",
   "metadata": {},
   "outputs": [
    {
     "name": "stdout",
     "output_type": "stream",
     "text": [
      "pragati\n",
      "Hello pragati ! Welcome to JOCP\n"
     ]
    }
   ],
   "source": [
    "#1\n",
    "c=input()\n",
    "print(f\"Hello {c} ! Welcome to JOCP\")"
   ]
  },
  {
   "cell_type": "code",
   "execution_count": 9,
   "id": "9f14d7cb",
   "metadata": {},
   "outputs": [
    {
     "name": "stdout",
     "output_type": "stream",
     "text": [
      "5 7 9\n",
      "4"
     ]
    }
   ],
   "source": [
    "x, y, z = input().split()\n",
    "x=int(x)\n",
    "y=int(y)\n",
    "z=int(z)\n",
    "max=0\n",
    "min=0\n",
    "\n",
    "if x>y and x>z:\n",
    "    max=x\n",
    "elif y>x and y>z:\n",
    "    max=y\n",
    "else:\n",
    "    max=z\n",
    "\n",
    "if x<y and x<z:\n",
    "    min=x\n",
    "elif y<x and y<z:\n",
    "    min=y\n",
    "else:\n",
    "    min=z\n",
    "    \n",
    "print(max-min,end='')\n",
    "  "
   ]
  },
  {
   "cell_type": "code",
   "execution_count": 14,
   "id": "d4a8871c",
   "metadata": {},
   "outputs": [
    {
     "name": "stdout",
     "output_type": "stream",
     "text": [
      "3 4 5\n",
      "YES"
     ]
    }
   ],
   "source": [
    "x, y, z = input().split()\n",
    "x=int(x)\n",
    "y=int(y)\n",
    "z=int(z)\n",
    "max,a,b=0,0,0\n",
    "if x>y and x>z:\n",
    "    max=x\n",
    "    a=y\n",
    "    b=z\n",
    "elif y>x and y>z:\n",
    "    max=y\n",
    "    a=x\n",
    "    b=z\n",
    "else:\n",
    "    max=z\n",
    "    a=x\n",
    "    b=y\n",
    "    \n",
    "sum = a*a + b*b\n",
    "h= max*max\n",
    "\n",
    "if sum==h:\n",
    "    print(\"YES\",end='')\n",
    "else:\n",
    "    print(\"NO\",end='')\n"
   ]
  },
  {
   "cell_type": "code",
   "execution_count": null,
   "id": "b8ac7117",
   "metadata": {},
   "outputs": [],
   "source": [
    "\n",
    "        "
   ]
  }
 ],
 "metadata": {
  "kernelspec": {
   "display_name": "Python 3",
   "language": "python",
   "name": "python3"
  },
  "language_info": {
   "codemirror_mode": {
    "name": "ipython",
    "version": 3
   },
   "file_extension": ".py",
   "mimetype": "text/x-python",
   "name": "python",
   "nbconvert_exporter": "python",
   "pygments_lexer": "ipython3",
   "version": "3.8.8"
  }
 },
 "nbformat": 4,
 "nbformat_minor": 5
}
