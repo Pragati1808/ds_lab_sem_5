{
 "cells": [
  {
   "cell_type": "code",
   "execution_count": 21,
   "id": "7930d201",
   "metadata": {},
   "outputs": [
    {
     "data": {
      "image/png": "[encoded data removed]",
      "text/plain": [
       "<Figure size 432x288 with 1 Axes>"
      ]
     },
     "metadata": {
      "needs_background": "light"
     },
     "output_type": "display_data"
    }
   ],
   "source": [
    "import pandas as pd\n",
    "import matplotlib.pyplot as plt\n",
    "import numpy as np\n",
    "import seaborn as sns\n",
    "from scipy import stats as st\n",
    "\n",
    "df = pd.read_excel (r'C:\\Users\\Pragati Gupta\\Downloads\\data.xlsx')\n",
    "\n",
    "# box plot - q1\n",
    "plt.boxplot(df)\n",
    "plt.show()"
   ]
  },
  {
   "cell_type": "code",
   "execution_count": 13,
   "id": "dbc27d77",
   "metadata": {},
   "outputs": [
    {
     "name": "stdout",
     "output_type": "stream",
     "text": [
      "[[-0.54644398]\n",
      " [ 0.28964517]\n",
      " [-1.006293  ]\n",
      " [-1.006293  ]\n",
      " [ 0.28964517]\n",
      " [ 0.83310311]\n",
      " [-0.54644398]\n",
      " [-1.46614203]\n",
      " [ 1.20934322]\n",
      " [ 1.75280117]\n",
      " [ 0.37325408]\n",
      " [-0.58824843]\n",
      " [-1.006293  ]\n",
      " [-1.21531529]\n",
      " [-0.63005289]\n",
      " [ 0.20603625]\n",
      " [-1.08990192]\n",
      " [-1.08990192]\n",
      " [ 0.20603625]\n",
      " [ 0.7494942 ]\n",
      " [-0.63005289]\n",
      " [-1.54975095]\n",
      " [ 1.12573431]\n",
      " [ 1.66919225]\n",
      " [ 0.28964517]\n",
      " [-0.67185735]\n",
      " [-1.08990192]\n",
      " [-1.2989242 ]\n",
      " [-0.4210306 ]\n",
      " [ 0.41505854]\n",
      " [-0.88087963]\n",
      " [-0.88087963]\n",
      " [ 0.41505854]\n",
      " [ 0.95851648]\n",
      " [-0.4210306 ]\n",
      " [-1.34072866]\n",
      " [ 1.3347566 ]\n",
      " [ 1.87821454]\n",
      " [ 0.49866745]\n",
      " [-0.46283506]\n",
      " [-0.88087963]\n",
      " [-1.08990192]\n",
      " [ 0.1642318 ]\n",
      " [ 1.00032094]\n",
      " [-0.29561723]\n",
      " [-0.29561723]\n",
      " [ 1.00032094]\n",
      " [ 1.54377888]\n",
      " [ 0.1642318 ]\n",
      " [-0.75546626]\n",
      " [ 1.920019  ]\n",
      " [ 2.46347694]\n",
      " [ 1.08392985]\n",
      " [ 0.12242734]\n",
      " [-0.29561723]\n",
      " [-0.50463952]]\n"
     ]
    }
   ],
   "source": [
    "# q1 - zscore\n",
    "print(st.zscore(df))"
   ]
  },
  {
   "cell_type": "code",
   "execution_count": null,
   "id": "48d9c264",
   "metadata": {
    "scrolled": true
   },
   "outputs": [],
   "source": []
  },
  {
   "cell_type": "code",
   "execution_count": 27,
   "id": "a8f12d8a",
   "metadata": {},
   "outputs": [
    {
     "data": {
      "image/png": "[encoded data removed]",
      "text/plain": [
       "<Figure size 720x504 with 1 Axes>"
      ]
     },
     "metadata": {
      "needs_background": "light"
     },
     "output_type": "display_data"
    },
    {
     "name": "stdout",
     "output_type": "stream",
     "text": [
      "[[ 0.2        -0.68567676 -0.32192344]\n",
      " [ 1.4        -0.64910733  0.25136488]\n",
      " [ 0.6        -0.44797548 -0.71881535]\n",
      " [ 1.8        -0.44188058  0.60415769]\n",
      " [-0.6        -0.74662581  2.67681546]\n",
      " [-1.4        -0.38093153 -0.80701356]\n",
      " [-1.          0.83804938 -0.58651805]\n",
      " [-0.2         0.22855892 -0.36602254]\n",
      " [-1.          2.66652074 -0.80701356]\n",
      " [ 0.2        -0.38093153  0.07496847]]\n"
     ]
    }
   ],
   "source": [
    "data= pd.DataFrame({'X':[5,8,6,9,3,1,2,4,2,5] , \n",
    "                    'Y':[50,56,89,90,40,100,300,200,600,100], \n",
    "                    'Z':[21,34,12,42,89,10,15,20,10,30]})\n",
    "fig = plt.figure(figsize =(10, 7))\n",
    "plt.boxplot(data)\n",
    "plt.show()\n",
    "x= st.zscore(data)\n",
    "print(x)"
   ]
  },
  {
   "cell_type": "code",
   "execution_count": 28,
   "id": "0ff907d6",
   "metadata": {},
   "outputs": [
    {
     "name": "stdout",
     "output_type": "stream",
     "text": [
      "26.0\n",
      "65.5\n",
      "lower limit is: -33.25\n",
      "Upper limit is: 124.75\n",
      "Outlier in the dataset is: []\n"
     ]
    }
   ],
   "source": [
    "q1=df['X'].quantile(0.25)\n",
    "q3=df['X'].quantile(0.75)\n",
    "\n",
    "IQR=q3-q1\n",
    "\n",
    "low_lim=q1-1.5*IQR\n",
    "up_lim=q3+1.5*IQR\n",
    "\n",
    "print(q1)\n",
    "print(q3)\n",
    "\n",
    "print(\"lower limit is:\",low_lim)\n",
    "print(\"Upper limit is:\",up_lim)\n",
    "outlier=[]\n",
    "\n",
    "for x in df['X']:\n",
    "    if((x>up_lim) or (x<low_lim)):\n",
    "           outlier.append(x)\n",
    "       \n",
    "       \n",
    "print(\"Outlier in the dataset is:\",outlier)"
   ]
  },
  {
   "cell_type": "code",
   "execution_count": 29,
   "id": "15b390ec",
   "metadata": {},
   "outputs": [
    {
     "name": "stdout",
     "output_type": "stream",
     "text": [
      "2.25\n",
      "5.75\n",
      "lower limit is: -3.0\n",
      "Upper limit is: 11.0\n",
      "Outlier in the dataset is: []\n"
     ]
    }
   ],
   "source": [
    "data= pd.DataFrame({'X':[5,8,6,9,3,1,2,4,2,5] , \n",
    "                    'Y':[50,56,89,90,40,100,300,200,600,100], \n",
    "                    'Z':[21,34,12,42,89,10,15,20,10,30]})\n",
    "q1=data['X'].quantile(0.25)\n",
    "q3=data['X'].quantile(0.75)\n",
    "\n",
    "IQR=q3-q1\n",
    "\n",
    "low_lim=q1-1.5*IQR\n",
    "up_lim=q3+1.5*IQR\n",
    "\n",
    "print(q1)\n",
    "print(q3)\n",
    "\n",
    "print(\"lower limit is:\",low_lim)\n",
    "print(\"Upper limit is:\",up_lim)\n",
    "outlier=[]\n",
    "\n",
    "for x in data['X']:\n",
    "    if((x>up_lim) or (x<low_lim)):\n",
    "           outlier.append(x)\n",
    "       \n",
    "       \n",
    "print(\"Outlier in the dataset is:\",outlier)"
   ]
  },
  {
   "cell_type": "code",
   "execution_count": null,
   "id": "f3181e94",
   "metadata": {},
   "outputs": [],
   "source": []
  }
 ],
 "metadata": {
  "kernelspec": {
   "display_name": "Python 3",
   "language": "python",
   "name": "python3"
  },
  "language_info": {
   "codemirror_mode": {
    "name": "ipython",
    "version": 3
   },
   "file_extension": ".py",
   "mimetype": "text/x-python",
   "name": "python",
   "nbconvert_exporter": "python",
   "pygments_lexer": "ipython3",
   "version": "3.8.8"
  }
 },
 "nbformat": 4,
 "nbformat_minor": 5
}
