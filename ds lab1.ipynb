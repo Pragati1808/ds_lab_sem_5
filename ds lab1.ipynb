{
 "cells": [
  {
   "cell_type": "code",
   "execution_count": 2,
   "id": "c57663af",
   "metadata": {},
   "outputs": [
    {
     "data": {
      "text/plain": [
       "int"
      ]
     },
     "execution_count": 2,
     "metadata": {},
     "output_type": "execute_result"
    }
   ],
   "source": [
    "l= list(range(10))\n",
    "type(l[0])"
   ]
  },
  {
   "cell_type": "code",
   "execution_count": 3,
   "id": "b6a0a5bd",
   "metadata": {},
   "outputs": [
    {
     "data": {
      "text/plain": [
       "['0', '1', '2', '3', '4', '5', '6', '7', '8', '9']"
      ]
     },
     "execution_count": 3,
     "metadata": {},
     "output_type": "execute_result"
    }
   ],
   "source": [
    "l2= [str(c) for c in l]\n",
    "l2"
   ]
  },
  {
   "cell_type": "code",
   "execution_count": 12,
   "id": "98d215a3",
   "metadata": {},
   "outputs": [
    {
     "name": "stdout",
     "output_type": "stream",
     "text": [
      "table of number 1\n",
      "------------------\n",
      "1*1=1\n",
      "1*2=2\n",
      "1*3=3\n",
      "1*4=4\n",
      "1*5=5\n",
      "1*6=6\n",
      "1*7=7\n",
      "1*8=8\n",
      "1*9=9\n",
      "1*10=10\n",
      "table of number 2\n",
      "------------------\n",
      "2*1=2\n",
      "2*2=4\n",
      "2*3=6\n",
      "2*4=8\n",
      "2*5=10\n",
      "2*6=12\n",
      "2*7=14\n",
      "2*8=16\n",
      "2*9=18\n",
      "2*10=20\n",
      "table of number 3\n",
      "------------------\n",
      "3*1=3\n",
      "3*2=6\n",
      "3*3=9\n",
      "3*4=12\n",
      "3*5=15\n",
      "3*6=18\n",
      "3*7=21\n",
      "3*8=24\n",
      "3*9=27\n",
      "3*10=30\n",
      "table of number 4\n",
      "------------------\n",
      "4*1=4\n",
      "4*2=8\n",
      "4*3=12\n",
      "4*4=16\n",
      "4*5=20\n",
      "4*6=24\n",
      "4*7=28\n",
      "4*8=32\n",
      "4*9=36\n",
      "4*10=40\n",
      "table of number 5\n",
      "------------------\n",
      "5*1=5\n",
      "5*2=10\n",
      "5*3=15\n",
      "5*4=20\n",
      "5*5=25\n",
      "5*6=30\n",
      "5*7=35\n",
      "5*8=40\n",
      "5*9=45\n",
      "5*10=50\n",
      "table of number 6\n",
      "------------------\n",
      "6*1=6\n",
      "6*2=12\n",
      "6*3=18\n",
      "6*4=24\n",
      "6*5=30\n",
      "6*6=36\n",
      "6*7=42\n",
      "6*8=48\n",
      "6*9=54\n",
      "6*10=60\n",
      "table of number 7\n",
      "------------------\n",
      "7*1=7\n",
      "7*2=14\n",
      "7*3=21\n",
      "7*4=28\n",
      "7*5=35\n",
      "7*6=42\n",
      "7*7=49\n",
      "7*8=56\n",
      "7*9=63\n",
      "7*10=70\n",
      "table of number 8\n",
      "------------------\n",
      "8*1=8\n",
      "8*2=16\n",
      "8*3=24\n",
      "8*4=32\n",
      "8*5=40\n",
      "8*6=48\n",
      "8*7=56\n",
      "8*8=64\n",
      "8*9=72\n",
      "8*10=80\n",
      "table of number 9\n",
      "------------------\n",
      "9*1=9\n",
      "9*2=18\n",
      "9*3=27\n",
      "9*4=36\n",
      "9*5=45\n",
      "9*6=54\n",
      "9*7=63\n",
      "9*8=72\n",
      "9*9=81\n",
      "9*10=90\n",
      "table of number 10\n",
      "------------------\n",
      "10*1=10\n",
      "10*2=20\n",
      "10*3=30\n",
      "10*4=40\n",
      "10*5=50\n",
      "10*6=60\n",
      "10*7=70\n",
      "10*8=80\n",
      "10*9=90\n",
      "10*10=100\n"
     ]
    }
   ],
   "source": [
    "for x in range (1,11):\n",
    "    print(f\"table of number {x}\")\n",
    "    print(\"------------------\")\n",
    "    for i in range(1,11):\n",
    "        print(f\"{x}*{i}={x*i}\")"
   ]
  },
  {
   "cell_type": "code",
   "execution_count": 17,
   "id": "697ceb1c",
   "metadata": {},
   "outputs": [],
   "source": [
    "import numpy as np\n",
    "x= np.random.randint(5, size=(3,3))\n",
    "y= np.random.randint(7, size=(3,3))"
   ]
  },
  {
   "cell_type": "code",
   "execution_count": 20,
   "id": "d2d75371",
   "metadata": {},
   "outputs": [
    {
     "data": {
      "text/plain": [
       "array([[0, 0, 0],\n",
       "       [0, 0, 0],\n",
       "       [0, 0, 0]])"
      ]
     },
     "execution_count": 20,
     "metadata": {},
     "output_type": "execute_result"
    }
   ],
   "source": [
    "ans = np.random.randint(1,size=(3,3))\n",
    "ans"
   ]
  },
  {
   "cell_type": "code",
   "execution_count": 21,
   "id": "2fa74de9",
   "metadata": {},
   "outputs": [
    {
     "name": "stdout",
     "output_type": "stream",
     "text": [
      "[[22 26 18]\n",
      " [11 16  9]\n",
      " [15 18  9]]\n"
     ]
    }
   ],
   "source": [
    "l=len(y[0])\n",
    "for i in range(len(x)):\n",
    "    for j in range(l):\n",
    "        for k in range(len(y)):\n",
    "            ans[i][j] += x[i][k] * y[k][j]\n",
    "  \n",
    "print (ans)"
   ]
  },
  {
   "cell_type": "code",
   "execution_count": 1,
   "id": "7ff2b934",
   "metadata": {},
   "outputs": [
    {
     "name": "stdout",
     "output_type": "stream",
     "text": [
      "Enter the no. of days to add: 5\n",
      "Current date: 2021-09-07\n",
      "Changed date and time on Addition: 2021-09-12\n",
      "Enter the no. of days to subtract: 5\n",
      "Changed date and time on Subtraction: 2021-09-02\n"
     ]
    }
   ],
   "source": [
    "from datetime import date, timedelta\n",
    "now = date.today()\n",
    "num= int(input(\"Enter the no. of days to add: \"))\n",
    "print(\"Current date: \"+ str(now))\n",
    "td=now + timedelta(num)\n",
    "print(\"Changed date and time on Addition: \"+str(td))\n",
    "num_sub= int(input(\"Enter the no. of days to subtract: \"))\n",
    "td=now - timedelta(num_sub)\n",
    "print(\"Changed date and time on Subtraction: \"+str(td))"
   ]
  },
  {
   "cell_type": "code",
   "execution_count": 4,
   "id": "01eb818f",
   "metadata": {},
   "outputs": [
    {
     "name": "stdout",
     "output_type": "stream",
     "text": [
      "Enter the radius of circle: 3\n",
      "Enter the length of rectangle: 8\n",
      "Enter the breadth of rectangle: 9\n",
      "Area of circle: 28.274333882308138\n",
      "Perimeter of circle: 18.84955592153876\n",
      "Area of rectangle: 72\n",
      "Perimeter of Rectangle: 34\n"
     ]
    }
   ],
   "source": [
    "import math\n",
    "\n",
    "radius=int(input(\"Enter the radius of circle: \"))\n",
    "length=int(input(\"Enter the length of rectangle: \"))\n",
    "breadth=int(input(\"Enter the breadth of rectangle: \"))\n",
    "area_circle=math.pi*radius*radius\n",
    "perimeter_c=2*math.pi*radius\n",
    "area_r=length*breadth\n",
    "perimeter_r=2*(length+breadth)\n",
    "print(\"Area of circle: \"+str(area_circle))\n",
    "print(\"Perimeter of circle: \"+str(perimeter_c))\n",
    "\n",
    "print(\"Area of rectangle: \"+str(area_r))\n",
    "print(\"Perimeter of Rectangle: \"+str(perimeter_r))"
   ]
  },
  {
   "cell_type": "code",
   "execution_count": 6,
   "id": "aab0af5f",
   "metadata": {},
   "outputs": [
    {
     "name": "stdout",
     "output_type": "stream",
     "text": [
      "The equation is of form ax2+bx+c\n",
      "Enter a:4\n",
      "Enter b:5\n",
      "Enter c:6\n",
      "The roots are: (-0.625-1.0532687216470449j) and (-0.625+1.0532687216470449j)\n"
     ]
    }
   ],
   "source": [
    "print(\"The equation is of form ax2+bx+c\")\n",
    "import cmath\n",
    "a=float(input(\"Enter a:\"))\n",
    "b=float(input(\"Enter b:\"))\n",
    "c=float(input(\"Enter c:\"))\n",
    "d=(b**2)-(4*a*c)\n",
    "r1=(-b-cmath.sqrt(d))/(2*a)\n",
    "r2=(-b+cmath.sqrt(d))/(2*a)\n",
    "print(\"The roots are: \"+str(r1)+\" and \"+str(r2))"
   ]
  },
  {
   "cell_type": "code",
   "execution_count": null,
   "id": "491912a9",
   "metadata": {},
   "outputs": [],
   "source": []
  }
 ],
 "metadata": {
  "kernelspec": {
   "display_name": "Python 3",
   "language": "python",
   "name": "python3"
  },
  "language_info": {
   "codemirror_mode": {
    "name": "ipython",
    "version": 3
   },
   "file_extension": ".py",
   "mimetype": "text/x-python",
   "name": "python",
   "nbconvert_exporter": "python",
   "pygments_lexer": "ipython3",
   "version": "3.8.8"
  }
 },
 "nbformat": 4,
 "nbformat_minor": 5
}
